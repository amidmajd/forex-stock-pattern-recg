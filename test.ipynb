{
 "cells": [
  {
   "cell_type": "code",
   "execution_count": 3,
   "metadata": {},
   "outputs": [],
   "source": [
    "import pandas as pd\n",
    "import numpy as np\n",
    "import time\n",
    "from tqdm import trange\n",
    "import multiprocessing as mlp\n",
    "import os\n",
    "import sys\n",
    "from matplotlib import pyplot as plt\n",
    "import seaborn as sns\n",
    "sns.set()"
   ]
  },
  {
   "cell_type": "code",
   "execution_count": 4,
   "metadata": {},
   "outputs": [],
   "source": [
    "from tqdm import trange"
   ]
  },
  {
   "cell_type": "code",
   "execution_count": 5,
   "metadata": {},
   "outputs": [],
   "source": [
    "plt.rcParams['figure.figsize'] = (20,10)"
   ]
  },
  {
   "cell_type": "markdown",
   "metadata": {},
   "source": [
    "# Data Understanding and Data Pre-Proccessing"
   ]
  },
  {
   "cell_type": "code",
   "execution_count": 6,
   "metadata": {},
   "outputs": [],
   "source": [
    "data = pd.read_csv('EUR_USD_M30_Output_Since_2005.csv')"
   ]
  },
  {
   "cell_type": "code",
   "execution_count": 7,
   "metadata": {},
   "outputs": [
    {
     "data": {
      "text/html": [
       "<div>\n",
       "<style scoped>\n",
       "    .dataframe tbody tr th:only-of-type {\n",
       "        vertical-align: middle;\n",
       "    }\n",
       "\n",
       "    .dataframe tbody tr th {\n",
       "        vertical-align: top;\n",
       "    }\n",
       "\n",
       "    .dataframe thead th {\n",
       "        text-align: right;\n",
       "    }\n",
       "</style>\n",
       "<table border=\"1\" class=\"dataframe\">\n",
       "  <thead>\n",
       "    <tr style=\"text-align: right;\">\n",
       "      <th></th>\n",
       "      <th>DateTime</th>\n",
       "      <th>Volume</th>\n",
       "      <th>Open</th>\n",
       "      <th>High</th>\n",
       "      <th>Low</th>\n",
       "      <th>Close</th>\n",
       "    </tr>\n",
       "  </thead>\n",
       "  <tbody>\n",
       "    <tr>\n",
       "      <th>0</th>\n",
       "      <td>2005-01-02T18:00:00.000000000Z</td>\n",
       "      <td>1</td>\n",
       "      <td>1.3560</td>\n",
       "      <td>1.3560</td>\n",
       "      <td>1.3560</td>\n",
       "      <td>1.3560</td>\n",
       "    </tr>\n",
       "    <tr>\n",
       "      <th>1</th>\n",
       "      <td>2005-01-02T18:30:00.000000000Z</td>\n",
       "      <td>5</td>\n",
       "      <td>1.3560</td>\n",
       "      <td>1.3568</td>\n",
       "      <td>1.3560</td>\n",
       "      <td>1.3567</td>\n",
       "    </tr>\n",
       "    <tr>\n",
       "      <th>2</th>\n",
       "      <td>2005-01-02T19:00:00.000000000Z</td>\n",
       "      <td>32</td>\n",
       "      <td>1.3569</td>\n",
       "      <td>1.3570</td>\n",
       "      <td>1.3556</td>\n",
       "      <td>1.3556</td>\n",
       "    </tr>\n",
       "    <tr>\n",
       "      <th>3</th>\n",
       "      <td>2005-01-02T19:30:00.000000000Z</td>\n",
       "      <td>12</td>\n",
       "      <td>1.3556</td>\n",
       "      <td>1.3565</td>\n",
       "      <td>1.3556</td>\n",
       "      <td>1.3558</td>\n",
       "    </tr>\n",
       "    <tr>\n",
       "      <th>4</th>\n",
       "      <td>2005-01-02T20:00:00.000000000Z</td>\n",
       "      <td>27</td>\n",
       "      <td>1.3559</td>\n",
       "      <td>1.3561</td>\n",
       "      <td>1.3556</td>\n",
       "      <td>1.3558</td>\n",
       "    </tr>\n",
       "  </tbody>\n",
       "</table>\n",
       "</div>"
      ],
      "text/plain": [
       "                         DateTime  Volume    Open    High     Low   Close\n",
       "0  2005-01-02T18:00:00.000000000Z       1  1.3560  1.3560  1.3560  1.3560\n",
       "1  2005-01-02T18:30:00.000000000Z       5  1.3560  1.3568  1.3560  1.3567\n",
       "2  2005-01-02T19:00:00.000000000Z      32  1.3569  1.3570  1.3556  1.3556\n",
       "3  2005-01-02T19:30:00.000000000Z      12  1.3556  1.3565  1.3556  1.3558\n",
       "4  2005-01-02T20:00:00.000000000Z      27  1.3559  1.3561  1.3556  1.3558"
      ]
     },
     "execution_count": 7,
     "metadata": {},
     "output_type": "execute_result"
    }
   ],
   "source": [
    "data.head(5)"
   ]
  },
  {
   "cell_type": "code",
   "execution_count": 8,
   "metadata": {},
   "outputs": [
    {
     "name": "stdout",
     "output_type": "stream",
     "text": [
      "<class 'pandas.core.frame.DataFrame'>\n",
      "RangeIndex: 166972 entries, 0 to 166971\n",
      "Data columns (total 6 columns):\n",
      "DateTime    166972 non-null object\n",
      "Volume      166972 non-null int64\n",
      "Open        166972 non-null float64\n",
      "High        166972 non-null float64\n",
      "Low         166972 non-null float64\n",
      "Close       166972 non-null float64\n",
      "dtypes: float64(4), int64(1), object(1)\n",
      "memory usage: 7.6+ MB\n"
     ]
    }
   ],
   "source": [
    "data.info()"
   ]
  },
  {
   "cell_type": "code",
   "execution_count": 9,
   "metadata": {},
   "outputs": [
    {
     "data": {
      "text/plain": [
       "DateTime    0\n",
       "Volume      0\n",
       "Open        0\n",
       "High        0\n",
       "Low         0\n",
       "Close       0\n",
       "dtype: int64"
      ]
     },
     "execution_count": 9,
     "metadata": {},
     "output_type": "execute_result"
    }
   ],
   "source": [
    "data.isnull().sum() "
   ]
  },
  {
   "cell_type": "code",
   "execution_count": 10,
   "metadata": {},
   "outputs": [
    {
     "data": {
      "text/plain": [
       "DateTime    0\n",
       "Volume      0\n",
       "Open        0\n",
       "High        0\n",
       "Low         0\n",
       "Close       0\n",
       "dtype: int64"
      ]
     },
     "execution_count": 10,
     "metadata": {},
     "output_type": "execute_result"
    }
   ],
   "source": [
    "data.isna().sum()"
   ]
  },
  {
   "cell_type": "code",
   "execution_count": 11,
   "metadata": {},
   "outputs": [],
   "source": [
    "data = data.iloc[:,[0,2,5]]"
   ]
  },
  {
   "cell_type": "code",
   "execution_count": 12,
   "metadata": {},
   "outputs": [],
   "source": [
    "data.DateTime = pd.to_datetime(data.DateTime)"
   ]
  },
  {
   "cell_type": "code",
   "execution_count": 13,
   "metadata": {},
   "outputs": [
    {
     "data": {
      "text/html": [
       "<div>\n",
       "<style scoped>\n",
       "    .dataframe tbody tr th:only-of-type {\n",
       "        vertical-align: middle;\n",
       "    }\n",
       "\n",
       "    .dataframe tbody tr th {\n",
       "        vertical-align: top;\n",
       "    }\n",
       "\n",
       "    .dataframe thead th {\n",
       "        text-align: right;\n",
       "    }\n",
       "</style>\n",
       "<table border=\"1\" class=\"dataframe\">\n",
       "  <thead>\n",
       "    <tr style=\"text-align: right;\">\n",
       "      <th></th>\n",
       "      <th>DateTime</th>\n",
       "      <th>Open</th>\n",
       "      <th>Close</th>\n",
       "    </tr>\n",
       "  </thead>\n",
       "  <tbody>\n",
       "    <tr>\n",
       "      <th>0</th>\n",
       "      <td>2005-01-02 18:00:00</td>\n",
       "      <td>1.3560</td>\n",
       "      <td>1.3560</td>\n",
       "    </tr>\n",
       "    <tr>\n",
       "      <th>1</th>\n",
       "      <td>2005-01-02 18:30:00</td>\n",
       "      <td>1.3560</td>\n",
       "      <td>1.3567</td>\n",
       "    </tr>\n",
       "    <tr>\n",
       "      <th>2</th>\n",
       "      <td>2005-01-02 19:00:00</td>\n",
       "      <td>1.3569</td>\n",
       "      <td>1.3556</td>\n",
       "    </tr>\n",
       "    <tr>\n",
       "      <th>3</th>\n",
       "      <td>2005-01-02 19:30:00</td>\n",
       "      <td>1.3556</td>\n",
       "      <td>1.3558</td>\n",
       "    </tr>\n",
       "    <tr>\n",
       "      <th>4</th>\n",
       "      <td>2005-01-02 20:00:00</td>\n",
       "      <td>1.3559</td>\n",
       "      <td>1.3558</td>\n",
       "    </tr>\n",
       "  </tbody>\n",
       "</table>\n",
       "</div>"
      ],
      "text/plain": [
       "             DateTime    Open   Close\n",
       "0 2005-01-02 18:00:00  1.3560  1.3560\n",
       "1 2005-01-02 18:30:00  1.3560  1.3567\n",
       "2 2005-01-02 19:00:00  1.3569  1.3556\n",
       "3 2005-01-02 19:30:00  1.3556  1.3558\n",
       "4 2005-01-02 20:00:00  1.3559  1.3558"
      ]
     },
     "execution_count": 13,
     "metadata": {},
     "output_type": "execute_result"
    }
   ],
   "source": [
    "data.head(5)"
   ]
  },
  {
   "cell_type": "code",
   "execution_count": 14,
   "metadata": {},
   "outputs": [],
   "source": [
    "# data['diff'] = (data.iloc[:,2] - data.iloc[:,1])"
   ]
  },
  {
   "cell_type": "code",
   "execution_count": 15,
   "metadata": {},
   "outputs": [
    {
     "name": "stderr",
     "output_type": "stream",
     "text": [
      "/usr/local/lib/python3.5/dist-packages/pandas/plotting/_core.py:1716: UserWarning: Pandas doesn't allow columns to be created via a new attribute name - see https://pandas.pydata.org/pandas-docs/stable/indexing.html#attribute-access\n",
      "  series.name = label\n"
     ]
    },
    {
     "data": {
      "text/plain": [
       "<matplotlib.axes._subplots.AxesSubplot at 0x7f03c09e7208>"
      ]
     },
     "execution_count": 15,
     "metadata": {},
     "output_type": "execute_result"
    },
    {
     "data": {
      "image/png": "[encoded data removed]",
      "text/plain": [
       "<matplotlib.figure.Figure at 0x7f03bd56db00>"
      ]
     },
     "metadata": {},
     "output_type": "display_data"
    }
   ],
   "source": [
    "# plt.plot(range(len(data)) , data.iloc[: , 1])\n",
    "data.plot(x='DateTime', y=['Open', 'Close'])"
   ]
  },
  {
   "cell_type": "markdown",
   "metadata": {},
   "source": [
    "open and close price seem to be so close , so we would need one of them."
   ]
  },
  {
   "cell_type": "code",
   "execution_count": 16,
   "metadata": {},
   "outputs": [],
   "source": [
    "data = data.iloc[:, [0,2]]\n",
    "data = data.rename(columns={'Close': 'Value'})"
   ]
  },
  {
   "cell_type": "markdown",
   "metadata": {},
   "source": [
    "# Hyper Parameters"
   ]
  },
  {
   "cell_type": "code",
   "execution_count": 17,
   "metadata": {},
   "outputs": [],
   "source": [
    "P = 10     # how many points to use for calulations\n",
    "F = 20     # gap between last point and start range of measuring outcome of pattern"
   ]
  },
  {
   "cell_type": "markdown",
   "metadata": {},
   "source": [
    "# calculate diffrence in default length "
   ]
  },
  {
   "cell_type": "markdown",
   "metadata": {},
   "source": [
    "*** this difference is kind of normalized in the whole project and it's gonna be used anywhere difference measurement needed***"
   ]
  },
  {
   "cell_type": "code",
   "execution_count": 18,
   "metadata": {},
   "outputs": [],
   "source": [
    "def percent_change(start_p, current_p):\n",
    "    try:\n",
    "        x = ((current_p - start_p) / abs(start_p)) * 100\n",
    "        if x == 0:\n",
    "            return 1e-10\n",
    "        else:\n",
    "            return x\n",
    "    except Exception as e:\n",
    "        return 1e-10"
   ]
  },
  {
   "cell_type": "code",
   "execution_count": 19,
   "metadata": {},
   "outputs": [
    {
     "data": {
      "text/plain": [
       "0.05162241887905036"
      ]
     },
     "execution_count": 19,
     "metadata": {},
     "output_type": "execute_result"
    }
   ],
   "source": [
    "percent_change(data.iloc[0,1] , data.iloc[1,1])"
   ]
  },
  {
   "cell_type": "markdown",
   "metadata": {},
   "source": [
    "*** pattern finder ***"
   ]
  },
  {
   "cell_type": "code",
   "execution_count": 20,
   "metadata": {},
   "outputs": [],
   "source": [
    "# def pattern_finder(data):\n",
    "#     for y in trange(P+1, x):\n",
    "#         tmp_pattern = []\n",
    "#         for i in range(P-1, -1, -1):\n",
    "#             tmp_pattern.append(percent_change(data.Value[y-P], data.Value[y-i]))\n",
    "\n",
    "#         current_point = data.Value[y]\n",
    "#         outcome_range = data.Value[y+F : y+P+F]\n",
    "#         try:\n",
    "#             avrage_outcome = outcome_range.mean()\n",
    "#         except Exception as e:\n",
    "#             print(e)\n",
    "#             avrage_outcome = 1e-10\n",
    "\n",
    "#         future_outcome = percent_change(current_point, avrage_outcome)\n",
    "\n",
    "#         pattern_ar.append(tmp_pattern)\n",
    "#         performance_ar.append(future_outcome)\n",
    "\n",
    "\n",
    "#     #     print('current :', current_point)\n",
    "#     #     print('outcome :', avrage_outcome)\n",
    "#     #     print('percent change outcome :', future_outcome, '%')\n",
    "#     #     print('_______')\n",
    "#     #     print(tmp_pattern)\n",
    "#     #     break"
   ]
  },
  {
   "cell_type": "code",
   "execution_count": 23,
   "metadata": {},
   "outputs": [],
   "source": [
    "def pattern_finder(inx):\n",
    "    tmp_pattern = []\n",
    "    for i in range(1, P+1):\n",
    "        pattern_ar[inx,i-1] = percent_change(data.Value[inx], data.Value[inx+i])\n",
    "\n",
    "    current_point = data.Value[inx+P]\n",
    "    outcome_range = data.Value[inx+P+F : inx+P+F+P]\n",
    "    try:\n",
    "        avrage_outcome = outcome_range.mean()\n",
    "    except Exception as e:\n",
    "        print(e)\n",
    "        avrage_outcome = 1e-10\n",
    "\n",
    "    future_outcome = percent_change(current_point, avrage_outcome)\n",
    "\n",
    "    performance_ar[inx] = future_outcome"
   ]
  },
  {
   "cell_type": "code",
   "execution_count": 38,
   "metadata": {},
   "outputs": [
    {
     "name": "stdout",
     "output_type": "stream",
     "text": [
      "[0, 1, 2, 3, 4, 5, 6, 7, 8, 9, 10, 11, 12, 13, 14, 15, 16, 17, 18, 19, 20, 21]\n",
      "22 Patterns recognized in 0.08496689796447754 second.\n"
     ]
    }
   ],
   "source": [
    "data_for_pool = list(range(0, len(data) - (F+P+166920)))\n",
    "print(data_for_pool)\n",
    "pattern_ar = np.zeros(shape=[len(data_for_pool), 10])\n",
    "performance_ar = np.zeros(shape=[len(data_for_pool)])\n",
    "\n",
    "t0 = time.time()\n",
    "ppool = mlp.Pool(processes=os.cpu_count())\n",
    "ppool.map(pattern_finder, data_for_pool)\n",
    "print('{} Patterns recognized in {} second.'.format(len(pattern_ar), time.time()-t0))"
   ]
  },
  {
   "cell_type": "code",
   "execution_count": 39,
   "metadata": {},
   "outputs": [
    {
     "data": {
      "text/plain": [
       "array([[0., 0., 0., 0., 0., 0., 0., 0., 0., 0.],\n",
       "       [0., 0., 0., 0., 0., 0., 0., 0., 0., 0.],\n",
       "       [0., 0., 0., 0., 0., 0., 0., 0., 0., 0.],\n",
       "       [0., 0., 0., 0., 0., 0., 0., 0., 0., 0.],\n",
       "       [0., 0., 0., 0., 0., 0., 0., 0., 0., 0.],\n",
       "       [0., 0., 0., 0., 0., 0., 0., 0., 0., 0.],\n",
       "       [0., 0., 0., 0., 0., 0., 0., 0., 0., 0.],\n",
       "       [0., 0., 0., 0., 0., 0., 0., 0., 0., 0.],\n",
       "       [0., 0., 0., 0., 0., 0., 0., 0., 0., 0.],\n",
       "       [0., 0., 0., 0., 0., 0., 0., 0., 0., 0.],\n",
       "       [0., 0., 0., 0., 0., 0., 0., 0., 0., 0.],\n",
       "       [0., 0., 0., 0., 0., 0., 0., 0., 0., 0.],\n",
       "       [0., 0., 0., 0., 0., 0., 0., 0., 0., 0.],\n",
       "       [0., 0., 0., 0., 0., 0., 0., 0., 0., 0.],\n",
       "       [0., 0., 0., 0., 0., 0., 0., 0., 0., 0.],\n",
       "       [0., 0., 0., 0., 0., 0., 0., 0., 0., 0.],\n",
       "       [0., 0., 0., 0., 0., 0., 0., 0., 0., 0.],\n",
       "       [0., 0., 0., 0., 0., 0., 0., 0., 0., 0.],\n",
       "       [0., 0., 0., 0., 0., 0., 0., 0., 0., 0.],\n",
       "       [0., 0., 0., 0., 0., 0., 0., 0., 0., 0.],\n",
       "       [0., 0., 0., 0., 0., 0., 0., 0., 0., 0.],\n",
       "       [0., 0., 0., 0., 0., 0., 0., 0., 0., 0.]])"
      ]
     },
     "execution_count": 39,
     "metadata": {},
     "output_type": "execute_result"
    }
   ],
   "source": [
    "pattern_ar"
   ]
  },
  {
   "cell_type": "code",
   "execution_count": 21,
   "metadata": {},
   "outputs": [
    {
     "ename": "IndexError",
     "evalue": "index 35566 is out of bounds for axis 0 with size 0",
     "output_type": "error",
     "traceback": [
      "\u001b[0;31m---------------------------------------------------------------------------\u001b[0m",
      "\u001b[0;31mIndexError\u001b[0m                                Traceback (most recent call last)",
      "\u001b[0;32m<ipython-input-21-5ffa86c823db>\u001b[0m in \u001b[0;36m<module>\u001b[0;34m()\u001b[0m\n\u001b[1;32m      1\u001b[0m \u001b[0mt\u001b[0m \u001b[0;34m=\u001b[0m \u001b[0;36m35566\u001b[0m\u001b[0;34m\u001b[0m\u001b[0m\n\u001b[0;32m----> 2\u001b[0;31m \u001b[0mprint\u001b[0m\u001b[0;34m(\u001b[0m\u001b[0mperformance_ar\u001b[0m\u001b[0;34m[\u001b[0m\u001b[0mt\u001b[0m\u001b[0;34m]\u001b[0m\u001b[0;34m)\u001b[0m\u001b[0;34m\u001b[0m\u001b[0m\n\u001b[0m\u001b[1;32m      3\u001b[0m \u001b[0mprint\u001b[0m\u001b[0;34m(\u001b[0m\u001b[0mpattern_ar\u001b[0m\u001b[0;34m[\u001b[0m\u001b[0mt\u001b[0m\u001b[0;34m]\u001b[0m\u001b[0;34m)\u001b[0m\u001b[0;34m\u001b[0m\u001b[0m\n",
      "\u001b[0;31mIndexError\u001b[0m: index 35566 is out of bounds for axis 0 with size 0"
     ]
    }
   ],
   "source": [
    "t = 35566\n",
    "print(performance_ar[t])\n",
    "print(pattern_ar[t])"
   ]
  },
  {
   "cell_type": "code",
   "execution_count": null,
   "metadata": {},
   "outputs": [],
   "source": [
    "t = 35566\n",
    "print(performance_ar[t])\n",
    "print(pattern_ar[t])"
   ]
  },
  {
   "cell_type": "code",
   "execution_count": null,
   "metadata": {},
   "outputs": [],
   "source": [
    "len(performance_ar[performance_ar > 0])"
   ]
  },
  {
   "cell_type": "markdown",
   "metadata": {},
   "source": [
    "*** current pattern ***"
   ]
  },
  {
   "cell_type": "code",
   "execution_count": null,
   "metadata": {},
   "outputs": [],
   "source": [
    "current_pattern = []\n",
    "for i in range(-P, 0):\n",
    "    current_pattern.append(percent_change(data.Value.iloc[-P-1], data.Value.iloc[i]))\n",
    "#     print(i, data.Value.iloc[i])\n",
    "\n",
    "current_pattern = np.array(current_pattern)\n",
    "print(current_pattern)"
   ]
  },
  {
   "cell_type": "markdown",
   "metadata": {},
   "source": [
    "*** current pattern recognition ***"
   ]
  },
  {
   "cell_type": "code",
   "execution_count": null,
   "metadata": {},
   "outputs": [],
   "source": [
    "sim_pat_inx = []\n",
    "for p in trange(len(pattern_ar)):\n",
    "    sim = []\n",
    "    for i in range(P):\n",
    "        sim.append(100 - abs(percent_change(current_pattern[i], pattern_ar[p][i])))\n",
    "    sim = np.array(sim)\n",
    "    # max of how sim = 100\n",
    "    how_sim = sim.mean()\n",
    "    \n",
    "#     print(sim)\n",
    "#     print(how_sim)\n",
    "    \n",
    "    if how_sim >= 60:\n",
    "        sim_pat_inx.append([p, how_sim])\n",
    "print(len(sim_pat_inx), 'similar pattern found!')\n",
    "print(sim_pat_inx)"
   ]
  },
  {
   "cell_type": "code",
   "execution_count": null,
   "metadata": {},
   "outputs": [],
   "source": [
    "for i in range(len(sim_pat_inx)):\n",
    "    plt.plot(range(1,P+1), pattern_ar[sim_pat_inx[i][0]], linewidth=1)\n",
    "    \n",
    "    tmp_performance = performance_ar[sim_pat_inx[i][0]]\n",
    "    # if statement is because if future performance is upper than current patterns' change line\n",
    "    if tmp_performance > current_pattern[-1]:\n",
    "        pcolor = 'green'\n",
    "    else:\n",
    "        pcolor = 'red'\n",
    "    plt.scatter(P+.5, performance_ar[sim_pat_inx[i][0]], c=pcolor, alpha=0.5)\n",
    "plt.plot(range(1,P+1), current_pattern, c='red', linewidth=3)\n",
    "plt.show()"
   ]
  },
  {
   "cell_type": "code",
   "execution_count": null,
   "metadata": {},
   "outputs": [],
   "source": []
  }
 ],
 "metadata": {
  "kernelspec": {
   "display_name": "Python 3",
   "language": "python",
   "name": "python3"
  },
  "language_info": {
   "codemirror_mode": {
    "name": "ipython",
    "version": 3
   },
   "file_extension": ".py",
   "mimetype": "text/x-python",
   "name": "python",
   "nbconvert_exporter": "python",
   "pygments_lexer": "ipython3",
   "version": "3.5.2"
  }
 },
 "nbformat": 4,
 "nbformat_minor": 2
}
